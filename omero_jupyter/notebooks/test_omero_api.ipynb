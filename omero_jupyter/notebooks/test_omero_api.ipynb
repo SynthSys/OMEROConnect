{
 "cells": [
  {
   "cell_type": "code",
   "execution_count": null,
   "metadata": {},
   "outputs": [],
   "source": [
    "#!/usr/bin/env python\n",
    "# -*- coding: utf-8 -*-\n",
    "\n",
    "# https://github.com/ome/openmicroscopy/blob/develop/examples/Training/python/Json_Api/Login.py\n",
    "\n",
    "import requests\n",
    "\n",
    "USERNAME = \"xxxx\"\n",
    "PASSWORD = \"xxxxxxxx\"\n",
    "OMERO_WEB_HOST = \"http://xxxx.ac.uk\"\n",
    "SERVER_NAME = \"omero\"\n",
    "\n",
    "SESSION = requests.Session()"
   ]
  },
  {
   "cell_type": "code",
   "execution_count": null,
   "metadata": {},
   "outputs": [],
   "source": [
    "# Start by getting supported versions from the base url...\n",
    "api_url = '%s/api/' % OMERO_WEB_HOST\n",
    "print \"Starting at:\", api_url\n",
    "r = SESSION.get(api_url)\n",
    "# we get a list of versions\n",
    "versions = r.json()['data']\n",
    "\n",
    "# use most recent version...\n",
    "version = versions[-1]\n",
    "# get the 'base' url\n",
    "base_url = version['url:base']\n",
    "r = SESSION.get(base_url)\n",
    "# which lists a bunch of urls as starting points\n",
    "urls = r.json()\n",
    "servers_url = urls['url:servers']\n",
    "login_url = urls['url:login']\n",
    "projects_url = urls['url:projects']\n",
    "save_url = urls['url:save']\n",
    "schema_url = urls['url:schema']"
   ]
  },
  {
   "cell_type": "code",
   "execution_count": null,
   "metadata": {},
   "outputs": [],
   "source": [
    "# To login we need to get CSRF token\n",
    "token_url = urls['url:token']\n",
    "token = SESSION.get(token_url).json()['data']\n",
    "print 'CSRF token', token\n",
    "# We add this to our session header\n",
    "# Needed for all POST, PUT, DELETE requests\n",
    "SESSION.headers.update({'X-CSRFToken': token,\n",
    "                        'Referer': login_url})"
   ]
  },
  {
   "cell_type": "code",
   "execution_count": null,
   "metadata": {},
   "outputs": [],
   "source": [
    "# List the servers available to connect to\n",
    "servers = SESSION.get(servers_url).json()['data']\n",
    "print 'Servers:'\n",
    "for s in servers:\n",
    "    print '-id:', s['id']\n",
    "    print ' name:', s['server']\n",
    "    print ' host:', s['host']\n",
    "    print ' port:', s['port']\n",
    "# find one called SERVER_NAME\n",
    "servers = [s for s in servers if s['server'] == SERVER_NAME]\n",
    "if len(servers) < 1:\n",
    "    raise Exception(\"Found no server called '%s'\" % SERVER_NAME)\n",
    "server = servers[0]\n",
    "\n",
    "# Login with username, password and token\n",
    "payload = {'username': USERNAME,\n",
    "           'password': PASSWORD,\n",
    "           # 'csrfmiddlewaretoken': token,  # Using CSRFToken in header instead\n",
    "           'server': server['id']}\n",
    "\n",
    "r = SESSION.post(login_url, data=payload)\n",
    "login_rsp = r.json()\n",
    "assert r.status_code == 200\n",
    "assert login_rsp['success']\n",
    "eventContext = login_rsp['eventContext']\n",
    "print 'eventContext', eventContext\n",
    "# Can get our 'default' group\n",
    "groupId = eventContext['groupId']"
   ]
  },
  {
   "cell_type": "code",
   "execution_count": null,
   "metadata": {},
   "outputs": [],
   "source": [
    "# With successful login, request.session will contain\n",
    "# OMERO session details and reconnect to OMERO on\n",
    "# each subsequent call...\n",
    "\n",
    "# List projects:\n",
    "# Limit number of projects per page\n",
    "payload = {'limit': 2}\n",
    "data = SESSION.get(projects_url, params=payload).json()\n",
    "assert len(data['data']) < 3\n",
    "print \"Projects:\"\n",
    "for p in data['data']:\n",
    "    print '  ', p['@id'], p['Name']"
   ]
  },
  {
   "cell_type": "code",
   "execution_count": null,
   "metadata": {},
   "outputs": [],
   "source": []
  }
 ],
 "metadata": {
  "kernelspec": {
   "display_name": "Python 2",
   "language": "python",
   "name": "python2"
  },
  "language_info": {
   "codemirror_mode": {
    "name": "ipython",
    "version": 2
   },
   "file_extension": ".py",
   "mimetype": "text/x-python",
   "name": "python",
   "nbconvert_exporter": "python",
   "pygments_lexer": "ipython2",
   "version": "2.7.15"
  }
 },
 "nbformat": 4,
 "nbformat_minor": 2
}
