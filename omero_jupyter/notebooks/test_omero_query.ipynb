{
 "cells": [
  {
   "cell_type": "code",
   "execution_count": null,
   "metadata": {},
   "outputs": [],
   "source": [
    "from omero import client as om_client\n",
    "from omero import model, grid\n",
    "from omero import rtypes\n",
    "from omero import ClientError\n",
    "from omero import sys\n",
    "from omero import constants"
   ]
  },
  {
   "cell_type": "code",
   "execution_count": null,
   "metadata": {},
   "outputs": [],
   "source": [
    "USERNAME = \"xxxx\"\n",
    "PASSWORD = \"xxxxxxxx\"\n",
    "HOST = \"xxxx.ac.uk\"\n",
    "PORT = 4064\n",
    "CLIENT = om_client(HOST, PORT)\n",
    "SESSION = None"
   ]
  },
  {
   "cell_type": "code",
   "execution_count": null,
   "metadata": {},
   "outputs": [],
   "source": [
    "proj_ids, dataset_ids, annotation_ids = list(), list(), list()\n",
    "params = sys.Parameters()\n",
    "LINKED_ANNOS_BY_PROJ_QUERY = \"select p from Project p left outer join  \\\\\n",
    "                             fetch p.annotationLinks as links left outer join fetch  \\\\\n",
    "                             links.child as annotation where p.id=:pid\"\n",
    "LINKED_ANNOS_BY_DS_QUERY = \"select d from Dataset d left outer join  \\\\\n",
    "                             fetch d.annotationLinks as links left outer join fetch  \\\\\n",
    "                             links.child as annotation where d.id=:did\"\n",
    "LINKED_DATASETS_BY_PROJ_QUERY = \"select p from Project p left outer join  \\\\\n",
    "                                fetch p.datasetLinks as links left outer join fetch  \\\\\n",
    "                                links.child as dataset where p.id=:pid\"\n",
    "# LINKED_DATASETS_BY_PROJ_QUERY = \"select d from ProjectDatasetLink d where d.parent.id = :pid\"\n",
    "# LINKED_ANNOS_BY_DS_QUERY = \"select a from DatasetAnnotationLink a where a.parent.id = :did\"\n",
    "ALL_PROJ_QUERY = \"select p from Project p\""
   ]
  },
  {
   "cell_type": "code",
   "execution_count": null,
   "metadata": {},
   "outputs": [],
   "source": [
    "def open_omero_session():\n",
    "    global SESSION\n",
    "    try:\n",
    "        SESSION = CLIENT.getSession()\n",
    "    except ClientError:\n",
    "        print \"No live session\"\n",
    "    SESSION = CLIENT.createSession(USERNAME, PASSWORD)"
   ]
  },
  {
   "cell_type": "code",
   "execution_count": null,
   "metadata": {},
   "outputs": [],
   "source": [
    "def close_omero_session():\n",
    "    CLIENT.closeSession()"
   ]
  },
  {
   "cell_type": "code",
   "execution_count": null,
   "metadata": {},
   "outputs": [],
   "source": [
    "def destroy_omero_session():\n",
    "    CLIENT.destroySession(CLIENT.getSessionId())"
   ]
  },
  {
   "cell_type": "code",
   "execution_count": null,
   "metadata": {},
   "outputs": [],
   "source": [
    "def find_objects_by_query(query, params, all=False):\n",
    "    global SESSION\n",
    "    queryService = SESSION.getQueryService()\n",
    "    # query = \"\\\"select p from Project p left outer join fetch p.datasetLinks as links left outer join fetch links.child as dataset where p.id =:pid\\\"\"\n",
    "    objects = list()\n",
    "    if all == False:\n",
    "        objects = queryService.findByQuery(query, params)\n",
    "    else:\n",
    "        objects = queryService.findAllByQuery(query, params)\n",
    "    return objects"
   ]
  },
  {
   "cell_type": "code",
   "execution_count": null,
   "metadata": {},
   "outputs": [],
   "source": [
    "def print_comment_divider():\n",
    "    print \"########################################################################################\"\n",
    "    print \"###################--------------------------------------------#########################\"\n",
    "    print \"########################################################################################\"\n",
    "try:\n",
    "    open_omero_session()\n",
    "except Exception as e:\n",
    "    print \"Existing session\"\n",
    "print SESSION"
   ]
  },
  {
   "cell_type": "code",
   "execution_count": null,
   "metadata": {},
   "outputs": [],
   "source": [
    "%%timeit\n",
    "## time to get projects\n",
    "global params\n",
    "params.map = dict()\n",
    "all_projs = find_objects_by_query(ALL_PROJ_QUERY, params, True)\n",
    "# print all_projs\n",
    "global proj_ids\n",
    "#     return all_projs\n",
    "proj_ids = [i.id.val for i in all_projs]\n",
    "proj_ids = list(set(proj_ids))  # remove any duplicates"
   ]
  },
  {
   "cell_type": "code",
   "execution_count": null,
   "metadata": {},
   "outputs": [],
   "source": [
    "%%timeit\n",
    "# Get LinkedDatasets for Projects\n",
    "global dataset_ids\n",
    "global proj_ids\n",
    "for proj_id in proj_ids:\n",
    "    params.map = \"{\\\"pid\\\": rtypes.rlong(proj_id)}\"\n",
    "    proj_datasets = find_objects_by_query(LINKED_DATASETS_BY_PROJ_QUERY, params, True)\n",
    "    ds_ids = [i.id.val for i in proj_datasets]\n",
    "    ds_ids = list(set(ds_ids))  # remove any duplicates\n",
    "#     print ds_ids\n",
    "    dataset_ids.extend(ds_ids)"
   ]
  },
  {
   "cell_type": "code",
   "execution_count": null,
   "metadata": {},
   "outputs": [],
   "source": [
    "%%timeit\n",
    "# Get LinkedAnnotations for Datasets\n",
    "global annotation_ids\n",
    "for ds_id in dataset_ids:\n",
    "    params.map = {did: rtypes.rlong(ds_id)}\n",
    "    ds_annos = find_objects_by_query(LINKED_ANNOS_BY_DS_QUERY, params, True)\n",
    "    anno_ids = [i.id.val for i in ds_annos]\n",
    "    anno_ids = list(set(anno_ids))  # remove any duplicates\n",
    "#     print anno_ids\n",
    "    annotation_ids.extend(anno_ids)\n",
    "try:\n",
    "    open_omero_session()\n",
    "except Exception as e:\n",
    "    print \"Existing session\"\n",
    "print SESSION"
   ]
  },
  {
   "cell_type": "code",
   "execution_count": null,
   "metadata": {},
   "outputs": [],
   "source": [
    "global dataset_ids, annotation_ids\n",
    "print dataset_ids\n",
    "print annotation_ids\n",
    "# https://github.com/openmicroscopy/omero-example-scripts/blob/master/metadata_scripts/Metadata_Search.py\n",
    "close_omero_session()\n",
    "# destroy_omero_session()"
   ]
  },
  {
   "cell_type": "code",
   "execution_count": null,
   "metadata": {},
   "outputs": [],
   "source": []
  }
 ],
 "metadata": {
  "kernelspec": {
   "display_name": "Python 2",
   "language": "python",
   "name": "python2"
  },
  "language_info": {
   "codemirror_mode": {
    "name": "ipython",
    "version": 2
   },
   "file_extension": ".py",
   "mimetype": "text/x-python",
   "name": "python",
   "nbconvert_exporter": "python",
   "pygments_lexer": "ipython2",
   "version": "2.7.15"
  }
 },
 "nbformat": 4,
 "nbformat_minor": 1
}
