{
 "cells": [
  {
   "cell_type": "code",
   "execution_count": 79,
   "metadata": {},
   "outputs": [],
   "source": [
    "from omero import client as om_client\n",
    "from omero import model, grid\n",
    "from omero import rtypes\n",
    "from omero import ClientError\n",
    "from omero import sys\n",
    "from omero import constants"
   ]
  },
  {
   "cell_type": "code",
   "execution_count": 214,
   "metadata": {},
   "outputs": [],
   "source": [
    "USERNAME = \"xxxx\"\n",
    "PASSWORD = \"xxxxxxxx\"\n",
    "HOST = \"demo.openmicroscopy.org\"\n",
    "PORT = 4064\n",
    "CLIENT = om_client(HOST, PORT)\n",
    "SESSION = None"
   ]
  },
  {
   "cell_type": "code",
   "execution_count": 215,
   "metadata": {},
   "outputs": [],
   "source": [
    "proj_ids, dataset_ids, annotation_ids, image_ids = list(), list(), list(), list()\n",
    "params = sys.Parameters()\n",
    "# LINKED_ANNOS_BY_PROJ_QUERY = \"select p from Project p left outer join  \\\n",
    "#                              fetch p.annotationLinks as links left outer join fetch  \\\n",
    "#                              links.child as annotation where p.id=:pid\"\n",
    "# LINKED_ANNOS_BY_DS_QUERY = \"select d from Dataset d left outer join  \\\n",
    "#                             fetch d.annotationLinks as links left outer join fetch  \\\n",
    "#                             links.child as annotation where d.id=:did\"\n",
    "# LINKED_DATASETS_BY_PROJ_QUERY = \"select p from Project p left outer join  \\\n",
    "#                                fetch p.datasetLinks as links left outer join fetch  \\\n",
    "#                                links.child as dataset where p.id=:pid\"\n",
    "LINKED_ANNOS_BY_PROJ_QUERY = \"select link.child from ProjectAnnotationLink link where link.parent.id = :pid\"\n",
    "LINKED_DATASETS_BY_PROJ_QUERY = \"select link.child from ProjectDatasetLink link where link.parent.id = :pid\"\n",
    "LINKED_ANNOS_BY_DS_QUERY = \"select link.child from DatasetAnnotationLink link where link.parent.id = :did\"\n",
    "LINKED_IMAGES_BY_DS_QUERY = \"select link.child from DatasetImageLink link where link.parent.id = :did\"\n",
    "LINKED_ANNOS_BY_IMG_QUERY = \"select link.child from ImageAnnotationLink link where link.parent.id = :iid\"\n",
    "ALL_PROJ_QUERY = \"select p from Project p\""
   ]
  },
  {
   "cell_type": "code",
   "execution_count": 216,
   "metadata": {},
   "outputs": [],
   "source": [
    "def open_omero_session():\n",
    "    global SESSION\n",
    "\n",
    "    try:\n",
    "        SESSION = CLIENT.getSession()\n",
    "        return\n",
    "    except ClientError as e:\n",
    "        print \"No live session\"\n",
    "        \n",
    "    SESSION = CLIENT.createSession(USERNAME, PASSWORD)"
   ]
  },
  {
   "cell_type": "code",
   "execution_count": 217,
   "metadata": {},
   "outputs": [],
   "source": [
    "def close_omero_session():\n",
    "    CLIENT.closeSession()"
   ]
  },
  {
   "cell_type": "code",
   "execution_count": 218,
   "metadata": {},
   "outputs": [],
   "source": [
    "def destroy_omero_session():\n",
    "    CLIENT.destroySession(CLIENT.getSessionId())"
   ]
  },
  {
   "cell_type": "code",
   "execution_count": 219,
   "metadata": {},
   "outputs": [],
   "source": [
    "def find_objects_by_query(query, params, all=False):\n",
    "    global SESSION\n",
    "    queryService = SESSION.getQueryService()\n",
    "    # query = \"\\\"select p from Project p left outer join fetch p.datasetLinks as links left outer join fetch links.child as dataset where p.id =:pid\\\"\"\n",
    "    objects = list()\n",
    "    if all == False:\n",
    "        objects = queryService.findByQuery(query, params)\n",
    "    else:\n",
    "        objects = queryService.findAllByQuery(query, params)\n",
    "    return objects"
   ]
  },
  {
   "cell_type": "code",
   "execution_count": 220,
   "metadata": {},
   "outputs": [
    {
     "name": "stdout",
     "output_type": "stream",
     "text": [
      "Existing session\n",
      "No live session\n",
      "session-1dae3b06-4cb4-473d-b272-c4dfc95c473e/d6bb8df6-5b8c-4991-af88-bff4583b5269 -t -e 1.0 @ BlitzAdapters\n"
     ]
    }
   ],
   "source": [
    "def print_comment_divider():\n",
    "    print \"########################################################################################\"\n",
    "    print \"###################--------------------------------------------#########################\"\n",
    "    print \"########################################################################################\"\n",
    "\n",
    "global SESSION\n",
    "try:\n",
    "    close_omero_session()\n",
    "    destroy_omero_session()\n",
    "except Exception as e:\n",
    "    print \"Existing session\"\n",
    "    \n",
    "try:\n",
    "    SESSION = None\n",
    "    open_omero_session()\n",
    "except Exception as e:\n",
    "    print \"Existing session\"\n",
    "    \n",
    "print SESSION"
   ]
  },
  {
   "cell_type": "code",
   "execution_count": 221,
   "metadata": {},
   "outputs": [
    {
     "name": "stdout",
     "output_type": "stream",
     "text": [
      "10 loops, best of 3: 75 ms per loop\n"
     ]
    }
   ],
   "source": [
    "%%timeit\n",
    "## time to get projects\n",
    "global params\n",
    "params.map = dict()\n",
    "all_projs = find_objects_by_query(ALL_PROJ_QUERY, params, True)\n",
    "# print all_projs\n",
    "global proj_ids\n",
    "#     return all_projs\n",
    "proj_ids = [i.id.val for i in all_projs]\n",
    "proj_ids = list(set(proj_ids))  # remove any duplicates"
   ]
  },
  {
   "cell_type": "code",
   "execution_count": 222,
   "metadata": {},
   "outputs": [
    {
     "name": "stdout",
     "output_type": "stream",
     "text": [
      "10 loops, best of 3: 74.7 ms per loop\n"
     ]
    }
   ],
   "source": [
    "%%timeit\n",
    "# Get LinkedDatasets for Projects\n",
    "global dataset_ids\n",
    "global proj_ids\n",
    "dataset_ids = list()\n",
    "\n",
    "for proj_id in proj_ids:\n",
    "    params.map = {\"pid\": rtypes.rlong(proj_id)}\n",
    "    proj_datasets = find_objects_by_query(LINKED_DATASETS_BY_PROJ_QUERY, params, True)\n",
    "    ds_ids = [i.id.val for i in proj_datasets]\n",
    "    ds_ids = list(set(ds_ids))  # remove any duplicates\n",
    "#     print ds_ids\n",
    "    dataset_ids.extend(ds_ids)"
   ]
  },
  {
   "cell_type": "code",
   "execution_count": 227,
   "metadata": {},
   "outputs": [
    {
     "name": "stdout",
     "output_type": "stream",
     "text": [
      "10 loops, best of 3: 145 ms per loop\n"
     ]
    }
   ],
   "source": [
    "%%timeit\n",
    "# Get LinkedAnnotations for Datasets\n",
    "global annotation_ids\n",
    "global dataset_ids\n",
    "annotation_ids = list()\n",
    "\n",
    "for ds_id in dataset_ids:\n",
    "    params.map = {\"did\": rtypes.rlong(ds_id)}\n",
    "    ds_annos = find_objects_by_query(LINKED_ANNOS_BY_DS_QUERY, params, True)\n",
    "    anno_ids = [i.id.val for i in ds_annos]\n",
    "    anno_ids = list(set(anno_ids))  # remove any duplicates\n",
    "#     print anno_ids\n",
    "    annotation_ids.extend(anno_ids)\n",
    "annotation_ids = list(set(annotation_ids))  # remove any duplicates"
   ]
  },
  {
   "cell_type": "code",
   "execution_count": 228,
   "metadata": {},
   "outputs": [
    {
     "name": "stdout",
     "output_type": "stream",
     "text": [
      "1 loop, best of 3: 270 ms per loop\n"
     ]
    }
   ],
   "source": [
    "%%timeit\n",
    "# Get LinkedAnnotations for Datasets\n",
    "global image_ids\n",
    "global dataset_ids\n",
    "image_ids = list()\n",
    "\n",
    "for ds_id in dataset_ids:\n",
    "    params.map = {\"did\": rtypes.rlong(ds_id)}\n",
    "    ds_images = find_objects_by_query(LINKED_IMAGES_BY_DS_QUERY, params, True)\n",
    "    img_ids = [i.id.val for i in ds_images]\n",
    "    img_ids = list(set(img_ids))  # remove any duplicates\n",
    "#     print anno_ids\n",
    "    image_ids.extend(img_ids)"
   ]
  },
  {
   "cell_type": "code",
   "execution_count": 229,
   "metadata": {},
   "outputs": [
    {
     "name": "stdout",
     "output_type": "stream",
     "text": [
      "1 loop, best of 3: 7.47 s per loop\n"
     ]
    }
   ],
   "source": [
    "%%timeit\n",
    "# Get LinkedAnnotations for Datasets\n",
    "global annotation_ids\n",
    "global image_ids\n",
    "\n",
    "for img_id in image_ids:\n",
    "    params.map = {\"iid\": rtypes.rlong(img_id)}\n",
    "    img_annos = find_objects_by_query(LINKED_ANNOS_BY_IMG_QUERY, params, True)\n",
    "    anno_ids = [i.id.val for i in img_annos]\n",
    "    anno_ids = list(set(anno_ids))  # remove any duplicates\n",
    "#     print anno_ids\n",
    "    annotation_ids.extend(anno_ids)\n",
    "annotation_ids = list(set(annotation_ids))  # remove any duplicates"
   ]
  },
  {
   "cell_type": "code",
   "execution_count": 230,
   "metadata": {},
   "outputs": [
    {
     "name": "stdout",
     "output_type": "stream",
     "text": [
      "[2928L, 2929L]\n",
      "[4324L, 4325L, 4326L, 4327L, 4328L, 4329L]\n",
      "[95236L, 95237L, 95238L, 95239L, 95240L, 95241L, 95242L, 95243L, 95244L, 95245L, 95246L, 95247L, 95248L, 95249L, 95250L, 95251L, 95252L, 95253L, 95254L, 95255L, 95256L, 95257L, 95258L, 95259L, 95260L, 95261L, 95262L, 95263L, 95264L, 95265L, 95266L, 95267L, 95268L, 95269L, 95270L, 95271L, 95272L, 95273L, 95274L, 95275L, 95276L, 95277L, 95278L, 95279L, 95280L, 95281L, 95282L, 95283L, 95284L, 95285L, 95286L, 95287L, 95288L, 95289L, 95290L, 95291L, 95292L, 95293L, 95294L, 95295L, 95296L, 95297L, 95298L, 95299L, 95300L, 95301L, 95302L, 95303L, 95304L, 95305L, 95306L, 95307L, 95308L, 95309L, 95310L, 95311L, 95312L, 95313L, 95314L, 95315L, 95316L, 95317L, 95318L, 95319L, 95320L, 95321L, 95322L, 95323L, 95324L, 95325L, 95326L, 95327L, 95328L, 95329L, 95330L, 95331L, 95332L, 95333L, 95334L, 95335L]\n"
     ]
    }
   ],
   "source": [
    "global dataset_ids, annotation_ids, image_ids\n",
    "print dataset_ids\n",
    "print annotation_ids\n",
    "print image_ids\n",
    "# https://github.com/openmicroscopy/omero-example-scripts/blob/master/metadata_scripts/Metadata_Search.py\n",
    "# close_omero_session()\n",
    "# destroy_omero_session()"
   ]
  },
  {
   "cell_type": "code",
   "execution_count": null,
   "metadata": {},
   "outputs": [],
   "source": []
  }
 ],
 "metadata": {
  "kernelspec": {
   "display_name": "Python 2",
   "language": "python",
   "name": "python2"
  },
  "language_info": {
   "codemirror_mode": {
    "name": "ipython",
    "version": 2
   },
   "file_extension": ".py",
   "mimetype": "text/x-python",
   "name": "python",
   "nbconvert_exporter": "python",
   "pygments_lexer": "ipython2",
   "version": "2.7.15"
  }
 },
 "nbformat": 4,
 "nbformat_minor": 1
}
