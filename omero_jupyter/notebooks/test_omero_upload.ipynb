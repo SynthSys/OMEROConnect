{
 "cells": [
  {
   "cell_type": "code",
   "execution_count": null,
   "metadata": {},
   "outputs": [],
   "source": [
    "import sys"
   ]
  },
  {
   "cell_type": "code",
   "execution_count": null,
   "metadata": {},
   "outputs": [],
   "source": [
    "sys.path.append(\"/opt/pyOmeroUpload/src\")"
   ]
  },
  {
   "cell_type": "code",
   "execution_count": null,
   "metadata": {},
   "outputs": [],
   "source": [
    "%load_ext autoreload\n",
    "%autoreload 0\n",
    "%aimport omero_data_transfer.data_transfer_manager\n",
    "%aimport omero_data_transfer.omero_data_broker\n",
    "import omero_data_transfer.data_transfer_manager as dtm\n",
    "import omero_data_transfer.omero_data_broker as data_broker\n",
    "from omero import sys as om_sys"
   ]
  },
  {
   "cell_type": "code",
   "execution_count": null,
   "metadata": {},
   "outputs": [],
   "source": [
    "conn_settings = dict()\n",
    "conn_settings[\"username\"] = \"xxxx\"\n",
    "conn_settings[\"password\"] = \"xxxxxxxx\"\n",
    "conn_settings[\"server\"] = \"demo.openmicroscopy.org\"\n",
    "conn_settings[\"port\"] = 4064"
   ]
  },
  {
   "cell_type": "code",
   "execution_count": null,
   "metadata": {},
   "outputs": [],
   "source": [
    "broker = data_broker.OMERODataBroker(username=conn_settings[\"username\"],\n",
    "                         password=conn_settings[\"password\"],\n",
    "                         host=conn_settings[\"server\"],\n",
    "                         port=conn_settings[\"port\"])"
   ]
  },
  {
   "cell_type": "code",
   "execution_count": null,
   "metadata": {},
   "outputs": [],
   "source": [
    "broker.open_omero_session()"
   ]
  },
  {
   "cell_type": "code",
   "execution_count": null,
   "metadata": {},
   "outputs": [],
   "source": [
    "query = \"select p from Project p\"\n",
    "params = om_sys.Parameters()\n",
    "params.map = dict()\n",
    "projects = broker.find_objects_by_query(query, params)"
   ]
  },
  {
   "cell_type": "code",
   "execution_count": null,
   "metadata": {},
   "outputs": [],
   "source": [
    "print projects"
   ]
  },
  {
   "cell_type": "code",
   "execution_count": null,
   "metadata": {},
   "outputs": [],
   "source": []
  }
 ],
 "metadata": {
  "kernelspec": {
   "display_name": "Python 2",
   "language": "python",
   "name": "python2"
  },
  "language_info": {
   "codemirror_mode": {
    "name": "ipython",
    "version": 2
   },
   "file_extension": ".py",
   "mimetype": "text/x-python",
   "name": "python",
   "nbconvert_exporter": "python",
   "pygments_lexer": "ipython2",
   "version": "2.7.15"
  }
 },
 "nbformat": 4,
 "nbformat_minor": 2
}
